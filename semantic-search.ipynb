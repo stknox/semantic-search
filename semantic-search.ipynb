{
 "cells": [
  {
   "cell_type": "markdown",
   "metadata": {},
   "source": [
    "### __init__ - start up all the modules we need and connect to the database"
   ]
  },
  {
   "cell_type": "code",
   "execution_count": 8,
   "metadata": {},
   "outputs": [],
   "source": [
    "import pandas as pd\n",
    "from tqdm import tqdm\n",
    "import requests\n",
    "from bs4 import BeautifulSoup\n",
    "import pymongo\n",
    "import seaborn as sns\n",
    "import numpy as np\n",
    "import matplotlib.pyplot as plt\n",
    "from sklearn.pipeline import Pipeline\n",
    "from sklearn.feature_extraction.text import TfidfVectorizer\n",
    "from sklearn.decomposition import TruncatedSVD\n",
    "import re\n",
    "from sklearn.metrics.pairwise import cosine_similarity\n",
    "import pickle\n",
    "\n",
    "\n",
    "%matplotlib inline\n",
    "from pymongo import MongoClient\n",
    "\n",
    "client = pymongo.MongoClient('34.210.38.96', 27016)\n",
    "db_ref = client['wikipedia']"
   ]
  },
  {
   "cell_type": "markdown",
   "metadata": {},
   "source": [
    "### Extract Transform Load - define functions to query wiki for all the pages in a specific category/subcategory, save the text of a given page, and load the resulting data into mongo"
   ]
  },
  {
   "cell_type": "code",
   "execution_count": null,
   "metadata": {},
   "outputs": [],
   "source": [
    "# a function to pull out all the named pages in a category/subcategory chain, to a specified depth\n",
    "def wiki_save_cats(cmtitle, tree_depth):\n",
    "    url_base = \"https://en.wikipedia.org/w/api.php\"\n",
    "    params = {\n",
    "    \"action\": 'query',\n",
    "    \"format\": 'json',\n",
    "    \"list\": 'categorymembers',\n",
    "    \"cmtitle\": cmtitle,\n",
    "    \"cmlimit\": 'max'\n",
    "    }\n",
    "\n",
    "    outputs = []\n",
    "    page_title_list = []\n",
    "    pages_id_list    = []\n",
    "    \n",
    "    response = requests.get(url_base, params = params)\n",
    "    json_response = response.json()\n",
    "    \n",
    "    pages = list(filter(lambda x: x['ns'] == 0, json_response['query']['categorymembers']))\n",
    "    subcats = list(filter(lambda x: x['ns'] == 14, json_response['query']['categorymembers']))\n",
    "\n",
    "    for i in range(len(pages)):\n",
    "        this_page = pages[i]['title'].replace(' ','_')\n",
    "        page_title_list.append(this_page)\n",
    "        pages_id_list.append(pages[i]['pageid'])\n",
    "    \n",
    "    zipped = list(zip(pages_id_list, page_title_list))\n",
    "    outputs.extend(zipped)\n",
    "\n",
    "    if (len(subcats) > 0) and (tree_depth > 0):\n",
    "        tree_depth -= 1\n",
    "        for i in range(len(subcats)):\n",
    "            new_category = subcats[i]['title'].replace(' ','_')\n",
    "            outputs.extend(wiki_save_cats(new_category, tree_depth))\n",
    "        return outputs\n",
    "    else:\n",
    "        return outputs\n",
    "    \n",
    "# a function to extract the text from a given page\n",
    "def wiki_save_page(page_title):\n",
    "    url_base = \"https://en.wikipedia.org/w/api.php\"\n",
    "    params = {\n",
    "    \"action\": \"query\",\n",
    "    \"format\": \"json\",\n",
    "    \"prop\": \"extracts\",\n",
    "    \"titles\": page_title,\n",
    "    \"exlimit\": \"max\"\n",
    "    }\n",
    "    response = requests.get(url_base, params = params)\n",
    "    json_response = response.json()\n",
    "    return json_response"
   ]
  },
  {
   "cell_type": "code",
   "execution_count": null,
   "metadata": {},
   "outputs": [],
   "source": [
    "# a function combining the above with some cleaning, followed by uploading to mongo\n",
    "def extract_transform_load(category, tree_depth):\n",
    "    \n",
    "    # generate our total list of pages in this category\n",
    "    list_of_cats = wiki_save_cats(category, tree_depth) \n",
    "    \n",
    "    # create (or specify) a new collection for this category\n",
    "    coll_ref = db_ref[category] \n",
    "    \n",
    "    # loop over each pageid/page name to save the whole html, extract the human text\n",
    "    for page_tuple in tqdm(list_of_cats): \n",
    "        page_text = wiki_save_page(page_tuple[1]) \n",
    "        text_extract = page_text['query']['pages'][str(page_tuple[0])]['extract']\n",
    "        soup = BeautifulSoup(text_extract, 'html.parser')\n",
    "        \n",
    "        # and insert it into a mongo doc as a dict with pageid and text_extract as keys\n",
    "        coll_ref.insert_one({\n",
    "            'pageid':str(page_tuple[0]),\n",
    "            'text_extract':soup.get_text()\n",
    "        }) "
   ]
  },
  {
   "cell_type": "code",
   "execution_count": 7,
   "metadata": {},
   "outputs": [],
   "source": [
    "# two music genres were chosen because of their overlap in terms with machine learning\n",
    "\n",
    "# extract_transform_load('Category:Machine_learning', 100)\n",
    "# extract_transform_load('Category:Business_software', 2)\n",
    "# extract_transform_load('Category:Heavy_metal_genres', 2)\n",
    "# extract_transform_load('Category:Electronic_music_genres', 2)\n",
    "\n",
    "# db_ref.drop_collection('Category:Electronic_music_genres')\n",
    "# db_ref.drop_collection('Category:Heavy_metal_genres')\n",
    "# db_ref.drop_collection('Category:Machine_learning')\n",
    "# db_ref.drop_collection('Category:Business_software')\n",
    "\n",
    "# wiki.drop_database('<DBNAME>')\n",
    "\n",
    "# client.database_names(), db_ref.collection_names(), coll_ref.find_one()"
   ]
  },
  {
   "cell_type": "markdown",
   "metadata": {},
   "source": [
    "### pull data back in to python for manipulation"
   ]
  },
  {
   "cell_type": "code",
   "execution_count": null,
   "metadata": {},
   "outputs": [],
   "source": [
    "list_of_cats = [\n",
    "                'Category:Machine_learning',\n",
    "                'Category:Business_software',\n",
    "                'Category:Heavy_metal_genres', \n",
    "                'Category:Electronic_music_genres'\n",
    "]\n",
    "\n",
    "# some additional regex cleaning\n",
    "def cleaner(text):\n",
    "    TAG_RE = re.compile(r'<[^>]+>')\n",
    "    text = TAG_RE.sub('', text)\n",
    "    text = re.sub('\\n', '', text)              \n",
    "    return(text)\n",
    "\n",
    "# go through cat list, pull those databases, concat, clean, dedupe\n",
    "def mongo_pull_clean(list_of_cats): \n",
    "    mongo_fields = ['pageid','text_extract']\n",
    "    corpus_df = pd.DataFrame()\n",
    "    for cat in list_of_cats:\n",
    "        cursor = db_ref[cat].find()\n",
    "        cat_df = pd.DataFrame(list(cursor), columns = mongo_fields)\n",
    "        corpus_df = pd.concat([corpus_df, cat_df])\n",
    "    corpus_df['text_extract'] = corpus_df['text_extract'].apply(cleaner)\n",
    "    return corpus_df.drop_duplicates(subset=['pageid', 'text_extract'], keep='first')"
   ]
  },
  {
   "cell_type": "code",
   "execution_count": null,
   "metadata": {
    "scrolled": true
   },
   "outputs": [],
   "source": [
    "corpus_df = mongo_pull_clean(list_of_cats)\n",
    "pickle.dump(corpus_df, open('corpus_df', \"wb\" ) )\n",
    "\n",
    "corpus_df.shape"
   ]
  },
  {
   "cell_type": "markdown",
   "metadata": {},
   "source": [
    "### fit model for Semantic Search - a few rounds of experimentation lead me to 0.01 as a good value for min_df in order to reduce the dimensionality of the pre-SVD DTM"
   ]
  },
  {
   "cell_type": "code",
   "execution_count": 11,
   "metadata": {},
   "outputs": [
    {
     "data": {
      "text/plain": [
       "(10380, 4329)"
      ]
     },
     "execution_count": 11,
     "metadata": {},
     "output_type": "execute_result"
    }
   ],
   "source": [
    "tfidf_vectorizer = TfidfVectorizer(min_df = 0.01, strip_accents='unicode', stop_words = 'english')\n",
    "document_term_matrix_sps = tfidf_vectorizer.fit_transform(corpus_df.text_extract)\n",
    "document_term_matrix_df = pd.DataFrame(document_term_matrix_sps.toarray(),\n",
    "                                       index=corpus_df.text_extract,\n",
    "                                       columns=tfidf_vectorizer.get_feature_names())\n",
    "document_term_matrix_df.shape"
   ]
  },
  {
   "cell_type": "code",
   "execution_count": 9,
   "metadata": {},
   "outputs": [
    {
     "data": {
      "text/html": [
       "<div>\n",
       "<table border=\"1\" class=\"dataframe\">\n",
       "  <thead>\n",
       "    <tr style=\"text-align: right;\">\n",
       "      <th></th>\n",
       "      <th>released</th>\n",
       "    </tr>\n",
       "    <tr>\n",
       "      <th>text_extract</th>\n",
       "      <th></th>\n",
       "    </tr>\n",
       "  </thead>\n",
       "  <tbody>\n",
       "    <tr>\n",
       "      <th>Vista Chino is an American rock band, formed in 2010 by vocalist John Garcia, drummer Brant Bjork and bassist Nick Oliveri, all previously members of Kyuss (active 1987-1995), along with guitarist Bruno Fevery.The band formed under the name Kyuss Lives! as a short-lived venture touring the music of the original Kyuss, with a line-up excluding Josh Homme. In 2012, the band announced plans to continue touring indefinitely and begin work on a studio album using the Kyuss Lives! moniker. However, a lawsuit by fellow Kyuss members Josh Homme and Scott Reeder prohibited use of the Kyuss Lives! moniker for recordings, prompting the band to rename themselves Vista Chino. After a tour and one album, Peace, Vista Chino became inactive in 2014 when Garcia and Bjork supported solo releases.HistoryFormation and touring (2010-2011)In 2010, a European \"John Garcia plays Kyuss\" tour was announced, starting with a gig at Roadburn Festival. His backing-band was composed of Belgian and Dutch musicians from Agua de Annique, Kong, Celestial Season and Arsenal. The setlists were almost exclusively Kyuss songs.In June 2010, former Kyuss members Nick Oliveri and Brant Bjork joined John Garcia onstage to perform \"Green Machine\" and \"Gardenia\" during a headlining appearance by \"Garcia Plays Kyuss\" at Hellfest in Clisson, France and they also appeared onstage with Garcia in other concerts on the tour, representing  3⁄4 of Kyuss' Blues for the Red Sun lineup.In November 2010, Garcia, Oliveri and Bjork announced a European tour under the moniker \"Kyuss Lives!\", with Bruno Fevery serving as the band's guitarist. In reference to the new band name, Garcia stated that \"there is never going to be a Kyuss without Josh Homme\" and that \"hopefully in the future him and I can get together and do some writing.\"They toured Australia and New Zealand in May. They toured Europe in June 2011 and announced a North and South America tour for late Summer and Fall, 2011, with Scott Reeder playing many dates outside of the US. The tour wrapped up on New Year's Eve 2011 at Cherry Cola's Rock 'n' Rolla Cabaret and Lounge, Toronto, Ontario, Canada. Kyuss Lives! planned to record a new studio album for a summer 2012 release.Lawsuit (2012-2013)In March 2012 it was revealed that Josh Homme and bassist Scott Reeder had filed a federal lawsuit against John Garcia and Brant Bjork alleging \"trademark infringement and consumer fraud\" over the use of the Kyuss name. Nick Oliveri left Kyuss later that month, stating managerial issues and was replaced by Billy Cordell.Bjork spoke to Rolling Stone magazine about the bitterness which has developed between Homme and his former Kyuss bandmates:Josh filing this lawsuit is not an issue of today … it's an issue that began over 20 years ago. That is why the band was short-lived. Josh and I were the creative force within the band and after the completion of our second record, Blues for the Red Sun, we developed an opposing view on how the band should exist and operate. In 1992 Josh discovered publishing, which is the financial revenue stream for songwriting. After that, he wanted to write all the songs. As a drummer I couldn't make him play my songs. I wasn't going to compromise my heart and soul and play drums for Josh to make money in a band I started. So I left the band. I was a confused, angry and sad 19-year-old idealist who sacrificed my love of my band for what I believed in. Two-and-a-half years later, Josh would break up the band after John (Garcia) confronted him about the same thing; his need to control the band for personal gain.In August 2012, Judge S. James Otero of the United States District Court Central District of California ruled partly in Homme's favor, declaring that Garcia and Bjork could not release audio recordings under the Kyuss Lives! moniker and encouraging them re-brand under a new name. However, the band scored a partial victory as the court ruling permitted the band to use the Kyuss Lives! name and logo for performances and promotional materials, provided the words \"Kyuss\" and \"Lives\" were printed in \"equally-prominent lettering.\" The band renamed themselves in response.In November 2012, Nick Oliveri announced that he would be rejoining Kyuss Lives!. Kyuss Lives! played their final performances under that name at the Soundwave Festivals in 2013. However, Mike Dean played bass on all the 2013 Soundwave shows and sidewaves. Oliveri has not been seen to actively participate with the band since, having not appeared in recent photoshoots or toured with the band, and Dean has been acting as the band's touring and session bassist, having played one track on the band's album, Peace. In August 2013, singer John Garcia said that Vista Chino \"is a three-piece band with [himself], Brant [Bjork, drummer] and Bruno [Fevery, guitarist]. It always will be.\" but also described Oliveri as \"an honorary band member\".Peace (2013-present)On 23 May 2013, it was announced that Vista Chino had signed with Napalm Records. That same day a new song, \"Dargona Dragona,\" was posted on the band's SoundCloud page. Their debut album, Peace, was released on September 3, 2013. Guest appearances included Mike Dean on \"As You Wish\" and Chris Cockrell on \"The Gambling Moose.\" The album peaked at #14 on the Billboard Heatseekers Album chart.In an interview with About.com, John Garcia spoke of the band's recent success and possibilities for the future.I think a lot of people, especially Josh Homme and Scott Reeder, expected us to fail, and we didn't. We're here at the other end. This is where we're supposed to be. It just took us a little bit longer to get here, and we're in a good spot. The tour is starting. We're going to be on the road up until the end of next summer, and there's already talk about another record.The first show played under the new moniker was on June 9, 2013 at the Orion Music and More Festival.In October 2014, former bassist Nick Oliveri claimed that the band had broken up due to a falling out that led to Garcia leaving the band. During this period, Bjork and Garcia decided to continue their solo careers, with Garcia releasing an eponymous debut album. The band has remained active on social media, however, and on December 31, posted a picture of Garcia and Bjork, and teased a new album for 2015.DiscographyPeace (2013, Napalm Records)Band membersCurrentJohn Garcia - lead vocals (2010–present)Bruno Fevery - guitar (2010–present)Brant Bjork - drums (2010–present)TouringMike Dean - bass guitar (2013–present)FormerNick Oliveri - bass guitar, backing vocals (2010-March 2012, November 2012-December 2012)Billy Cordell - bass guitar (March–November 2012)Former touringScott Reeder - bass guitar (select shows in 2011)TimelineReferences</th>\n",
       "      <td>1.0</td>\n",
       "    </tr>\n",
       "    <tr>\n",
       "      <th>DJ S.K.T is a British underground music producer, DJ and label manager, known for his work involving garage, experimental bass, deep and soulful house.CareerStarting his career at age 12, DJ S.K.T entered under-18 DJ competitions between the age of 12–17 including 'Technics DMC under 18's battle' in which he came fourth in the country. He also entered the 'Radio 1 Search for a DJ' (under 18's) in which he came sixth in the country.In 2013, he remixed a number of well-known tracks including Miguel's \"Adorn\", Somore's \"I Refuse\" and The Nightcrawlers's \"Push the Feeling On\" which went on to be signed by Ministry of Sound and released in 2014 as an official single.Tipped as the \"Go-to name for major labels craving that underground credibility\" and \"one of the (underground) scenes best producers\", it surely wont be long until S.K.T crosses over (into the mainstream)\". In March 2014, he produced Little Nikki's single \"Right Before My Eyes\" which was released by Sony/Deconstruction on 10 August 2014.In June 2014, he remixed Oliver Heldens &amp; Becky Hill's UK no. 1 \"Gecko (Overdrive)\" and has had releases on AATW/Universal and Rinse FM's Audio Rehab label. Other notable remixes he has worked on include tracks for New York house label Strictly Rhythm, Kontor and New State.He is working with Damon C. Scott, the vocalist on the number one track by Storm Queen and MK, \"Look Right Through\", Rachel K Collier (Ray Foxx) and has worked on remixes for Wilkinson and Becky Hill.He has delivered guest mixes for Topman, Kiss FM UK, Capital Xtra and was the resident DJ on BBC 1Xtra Talent in February 2014. Supporters of him include Annie Mac, MK (who featured on S.K.T's mix of \"Push the Feeling On\" on his BBC Radio 1 Essential Mix), Amine Edge, Steve Smart, DJ Target, Andi Durrant, MistaJam, Grant Nelson and Sam Divine (Defected). In 2016 he started a weekly show on London's Kiss FM, taking place Thursdays at 1 am.His June 2015 single \"Take Me Away\", featuring Rae, peaked at number 19 on the UK Singles Chart. The song uses vocals from True Faith and Final Cut's song of the same name.DiscographyRemix creditsOliver Heldens and Becky Hill – \"Gecko (Overdrive)\" (FFRR) – UK No. 1Avon Stringer – \"Tell You No Lie\" (One Love Records) – Australia No. 7La La Land – \"Lonely\" (Kontor/New State)iLL Blu – \"Blu Magic\" (Island)Rachel K Collier – \"Predictions\" (Strictly Rhythm)Wilkinson featuring Talay Riley – \"Dirty Love\" (Virgin/EMI)Becky Hill – \"Caution to the Wind\" (Parlophone)EPsRevolution (Up-Tempo Records, October 2012)Signature Sounds (Audio Rehab, July 2013)Running (Audio Rehab, July 2014)CompilationsIbiza Annual 2014 – \"Push Feeling\" (Ministry of Sound)The House That Garage Built – \"Right Before My Eyes\" &amp; \"Push Feeling\" (Ministry of Sound)Marbella Sessions 2014 – \"Right Before My Eyes\" &amp; \"Push Feeling\" (Ministry of Sound)Clubmix Summer – \"Push Feeling\" (Warner Music TV)Garage Nation – \"Right Before My Eyes\" &amp; \"Push Feeling\" (Warner Music TV)The Only Way is Marbs – Marbella Anthems – La La Land – \"Lonely\" (Warner Bros. Records)ReferencesExternal linksOfficial website</th>\n",
       "      <td>1.0</td>\n",
       "    </tr>\n",
       "    <tr>\n",
       "      <th>Tiësto's Club Life is Dutch DJ Tiësto's weekly radio show that was formerly broadcast on Radio 538 in the Netherlands. It was broadcast on 3FM, but in 2015, Tiësto came back to Radio 538. The show started broadcasting on 6 April 2007 every Friday evening, from 10 PM CET to midnight. The show is also frequently broadcast on the Sirius and XM satellite radio channel Electric AREA. The show was originally called Club Nouveau for the first five episodes, but was renamed as Club Life.The show is split into two parts. The first hour features a mix of current hits, and in the second hour Tiësto presents a variety of electronic genres, including minimal, house and trance. The show also features exclusive releases from Tiësto's own label, Black Hole Recordings. The free podcast is released the following Monday on iTunes as well as on Zune Marketplace without the 15 Minutes of Fame.1worldspace and Sirius Satellite Radio/XM Satellite Radio in the United States later started broadcasting the show. It is broadcast on Electric Area (Channel 52 on Sirius and XM) as part of their Global Domination lineup on Saturday nights. The show is broadcast on Radio 538 on Friday nights between 22:00 CET and midnight and on Electric Area on Saturday nights between 10:00 p.m. ET and 12:00 a.m. ET. The first hour is also available as a podcast on the Radio 538 website and on iTunes audio podcasts.In 2012, Tiësto launched \"Tiësto's Club Life Radio,\" the 24/7 commercial-free music channel featuring music curated by the electronic dance music superstar himself. The exclusive channel features a variety of electronic dance music including progressive house, electro, trance and downtempo, all hand selected by the world-renowned DJ and producer. Other superstar and up and coming DJs also appear on the channel. Tiësto’s Club Life Radio is available in the Dance/Electronic category through the SiriusXM App for smartphones and mobile devices. It's also available on channel 340 on Edge satellite radios and on SiriusXM Internet Radio.Each week, Tiësto’s Club Life Radio airs a countdown of Tiësto’s current favorite songs during the weekly special \"Tiësto’s Top Ten,\" as well as new and classic editions of Tiësto’s \"Club Life\" radio show, which currently airs on SiriusXM’s Electric Area, channel 52, on Saturdays at 10:00 pm ET.Regular featuresTiësto's ClassicTiësto selects a track that he feels is notable within the world of Trance15 Minutes of FameIncluded in the second hour Tiësto gives an upcoming DJ the opportunity to have their '15 minutes of fame'.Move from Radio 538 to 3FMTiësto’s Club Life From April 2011 Tiësto is starting his radio show every Saturday night called Tiësto’s Club Life, in which from 00.00 to 02.00 you can hear tracks from BNN 3FM. Today Tiësto has ended his introductory tour with his new colleagues Coen and Frank De Coen en Sander Show.Tiësto is very pleased with his arrival at 3FM: \"In 2005 I received an Award Bart. Who would have ever thought that I work together with Barts broadcasting? Musical 3FM is getting better and I am going to fit in together. Previously, I perform mostly trance music, but now I have embraced many styles. Now I am working mostly with bands rotated on 3FM, so in this way I have made further step. 3FM represents the new style of music, that Tiesto stands for at the year 2011. \"Channel Manager Wilbert Mutsaers: \"It is a privilege to welcome a worldwide famous DJ as Tiësto on 3FM. His recent remixes such as MUSE, Bloc Party, Yeah Yeah Yeahs, Amy MacDonald and Editors show that Tiesto and 3FM-dance programming made a perfect match on broadcasting music. His collaborations with artists such as Nelly Furtado, and Busta Rhymes show a start of new chapter of Tiesto’s in his career. 3FM-amazing Saturday dance night broadcasting starts from 1 April, beginning with Tiësto’s Club Life 2 hours performance, later followed by the unsurpassed White Noise by Dave Clarke (VPRO/3voor12) show for up to 4 hours.Returning to Radio 538At 1 May 2015, Tiësto came back to Radio 538.Special episodes2015Episode 441: Tiesto &amp; StadiumxEpisode 440: Tiësto &amp; Justin PrimeEpisode 439: Tiësto &amp; Sick IndividualsEpisode 438: Tiësto &amp; CazzetteEpisode 437: Tiësto &amp; Ummet OzcanEpisode 436: Tiësto &amp; VICE &amp; Ferreck DawnEpisode 435: Tiësto &amp; ThChainsmokersEpisode 434: Tiësto &amp; Robin SchulzEpisode 433: Tiësto &amp; Laidback Luke &amp; Mike MagoEpisode 432: Tiësto &amp; NervoEpisode 431: Tiësto &amp; VicentoneEpisode 430: Tiësto &amp; BURNSEpisode 429: Tiësto &amp; Dannic &amp; Eelke KleijnEpisode 428: Tiësto &amp; Don DiabloEpisode 427: Tiësto &amp; AfrojackEpisode 426: Tiësto &amp; Dimitri Vangelis &amp; WymanEpisode 425: Tiësto &amp; Hook N Sling &amp; BakermatEpisode 424: Tiësto &amp; R3habEpisode 423: Tiësto &amp; W&amp;WEpisode 422: Tiësto &amp; Avicii &amp; Oliver HeldensEpisode 421: Tiësto &amp; ZAXXEpisode 420: Tiësto &amp; TigerlilyEpisode 419: Tiësto &amp; MotiEpisode 418: Tiësto &amp; Dzeko &amp; TorresEpisode 416: Tiësto &amp; Disco FriesEpisode 412: Tiësto &amp; Luca GuerrieriEpisode 410: Tiësto &amp; Dirty VegasEpisode 405: Special ATCP and Remixes2014Episode 404: (After Hours Special)Episode 401: Tiësto &amp; HELENAEpisode 400: 400th Episode Special (4 Hour Show)Episode 396: Tiësto &amp; Seven LionsEpisode 394: Deephouse SpecialEpisode 391: 90's SpecialEpisode 389: Tiësto &amp; TigerlilyEpisode 388: Afterhours SpecialEpisode 384: Tiësto &amp; Oliver HeldensEpisode 383: Tiësto &amp; Francesco RossiEpisode 365: Tiësto &amp; The ChainsmokersEpisode 360: Tiësto &amp; FlosstradamusEpisode 358: Best of 2000-2010Episode 357: (After Hours Special)Episode 354: Jeremy Olander Guestmix (Hour 2)2013Episode 352: Best of 2013Episode 351: Musical Freedom SpecialEpisode 350: Tiësto &amp; Eelke KleijnEpisode 345: twoloud Guest MixEpisode 344: (Club Life After Hours Special)Episode 341: Moti Guest MixEpisode 339: Stefan Biniak Guest MixEpisode 338: Club Life 90's SpecialEpisode 337: Delayers Guest MixEpisode 333: Nari &amp; Milani Guest MixEpisode 331: Club Life After Hours SpecialEpisode 326: Bass King Vs. X-Vertigo Guestmix (Hour 2)Episode 325: Special Tribute Club Life Vol. 1,2,3Episode 317: Alvaro Guestmix (Hour 2)Episode 314: Dimitri Vegas &amp; Like Mike Guestmix (Hour 2)Episode 310: Special DyroEpisode 305: HMH SpecialEpisode 304: Sandro Silva Live Guestmix (Hour 2)Episode 303: Jordy Dazz Live Heineken (Hour 2)Episode 302: Dannic Guestmix (Hour 2)Episode 301: Firebeatz Live Guestmix (Hour 2)2012Episode 300: Favourite Tracks of the year. (last episode of 2012)Episode 291: Halloween SpecialEpisode 287: Ibiza 2012 SpecialEpisode 275: Presented by HardwellEpisode 261: Miami SpecialEpisode 257: Swedish Invasion Special. (Tiësto focuses on the music, people, DJs and producers of Sweden)Episode 253: Las Vegas Special2011Episode 247: Favourite 10 Tracks of the year. (last episode of 2011)Episode 240: The end of the College Invasion Tour. (some of the fans talking about the gigs throughout the episode)Episodes 212,213 and 214: Announcing Club Life: Volume One Las Vegas. (at the beginning)Episode 200 Tiësto Club Life.2010Episode 195: Special Club Life Best 24 Track’s Of 2010Episode 144: Fan’s Favorite Tracks of 2009Episode 145: DJ Scott William's Best tracks of 20092009Episode 129: 2 Hour Creamfields Daresbury UK 04-09-2009Episode 121: 1 Hour Ibiza ResidencyEpisode 119: Tiësto feat. Sneaky Sound System – I Will Be Here (World premiere)Episode 111: 1 Hour Queensday Museumplein Amsterdam NL 30-04-2009Episode 100: Your Favourite Tracks 100th episode Club Life2008Episode 091: Best of 2008Episode 084: Black Hole Recordings SpecialEpisode 083: 1 Hour Privilege Ibiza closing party special Part 2Episode 082: 1 Hour Privilege Ibiza closing party specialEpisode 079: 1 Hour Mysteryland Special Part 2Episode 078: 1 Hour Mysteryland SpecialEpisode 063: In Search Of Sunrise Series Special Part 2Episode 062: In Search Of Sunrise Series Special2007Episode 039: End of the Year MixEpisode 023: In Search Of Sunrise Series SpecialEpisode 017: First hour from Live @ Expo Center – Kiev, Ukraine 23-06-2007Episode 013: First hour from Live @ The Point – Dublin, Ireland 16-06-2007Episode 008: First hour from Tiësto Live @ King’s Hall Belfast 31-03-2007Episode 004: First hour from Tiësto Live @ EOL Alexandra Palace London, UK 20-04-2007Awards2009 IDMA Awards Miami: Best Podcast2010 IDMA Awards Miami: Best Radio ShowReferencesExternal linksTiësto's Club Life TracklistTiësto's Club LifeRadio 3FM / BNN (in Dutch)Tiësto's Club Life RSS Feed</th>\n",
       "      <td>1.0</td>\n",
       "    </tr>\n",
       "    <tr>\n",
       "      <th>The Greatest Video Game Music, performed by the London Philharmonic Orchestra, features classical orchestrations of video game themes including those from Super Mario Bros., Call of Duty, Metal Gear Solid, Final Fantasy, Halo, World of Warcraft, Angry Birds and many more. A sequel, The Greatest Video Game Music 2 was released a year later.ReceptionIt was named Rolling Stone's \"weirdest hit album\" of 2011, and debuted at #23 on the Billboard 200 - the highest debut for an orchestral release since 2005's Star Wars: Episode III – Revenge of the Sith soundtrack.Track listingAdvent Rising: MuseLegend of Zelda: SuiteCall of Duty: Modern Warfare 2 ThemeAngry Birds: Main ThemeFinal Fantasy VIII: Liberi FataliSuper Mario Bros.: ThemesUncharted: Drake's Fortune: Nate's ThemeGrand Theft Auto IV: Soviet ConnectionWorld of Warcraft: Seasons of WarMetal Gear Solid 2: Sons of Liberty ThemeTetris Theme (Korobeiniki)Battlefield 2: ThemeThe Elder Scrolls IV: OblivionCall of Duty 4: Modern Warfare Main Menu ThemeMass Effect 2: Suicide MissionSplinter Cell: ConvictionFinal Fantasy: Main ThemeBioShock: The Ocean on His ShouldersHalo 3: One Final EffortFallout 3: ThemeSuper Mario Galaxy: Gusty Garden GalaxyDead Space: Welcome Aboard the U.S.G. Ishimura [Amazon Exclusive]Final Fantasy XIII: Hanging Edge [iTunes Exclusive]SequelsGreatest Video Game Music 2Greatest Video Game Music 2, performed by the London Philharmonic Orchestra, features classical orchestrations of video game themes including those from Assassin's Creed, The Elder Scrolls V: Skyrim, Final Fantasy, Halo, Portal and many more. It is a sequel to the compilation album Greatest Video Game Music.Track ListAssassin's Creed: Revelations: Main ThemeThe Elder Scrolls V: Skyrim: Far HorizonsThe Legend of Zelda: The Wind Waker: Dragon Roost IslandFinal Fantasy VII: One-Winged AngelMass Effect 3: A Future for the Krogan / An End Once and for AllHalo: Never Forget / PerilSonic the Hedgehog: A Symphonic SuiteChrono Trigger: Main ThemeLuigi's Mansion: Main ThemeKingdom Hearts Birth by Sleep: Fate of the UnknownSuper Metroid: A Symphonic PoemDiablo III: OvertureBatman: Arkham City: Main ThemeDeus Ex: Human Revolution: Icarus Main ThemeFez: AdventurePortal: Still AliveLittleBigPlanet: Orb of Dreamers (The Cosmic Imagisphere)Greatest Video Game Music III: Choral EditionGreatest Video Game Music III: Choral Edition, performed by Orphei Drängar and Myrra Malmberg, features classical orchestrations of video game themes including those from Assassin's Creed, The Elder Scrolls V: Skyrim, Final Fantasy, God of War III, Minecraft and many more. It is a sequel to the compilation album Greatest Video Game Music 2.Track ListFinal Fantasy X - Hymn of the FaythWorld of Warcraft - InvincibleSkyrim - Age of OppressionFinal Fantasy X - Hymn of the Fayth (Remix 1)Dragon Age Inquisition - Main ThemeGod of War 3 - Anthem of the DeadThe Last of Us - The ChoiceSkyrim - DragonbornFinal Fantasy X - Hymn of the Fayth (Remix 2)Portal - Still AlivePortal 2 - Cara Mia AddioAssassin's Creed IV - The Parting GlassMinecraft - SwedenNotesReferencesExternal linkswww.x5musicgroup.comThe Greatest Video Game Music at AllMusic</th>\n",
       "      <td>1.0</td>\n",
       "    </tr>\n",
       "    <tr>\n",
       "      <th>Infestdead Records is an independent record label from India, and the first metal record label from Northeast India. The label was founded in 2012 by Rik Yeun of Unholy Maunder.MusicThe label released Sons of Malice (2012) by the British NWOBHM band Savage, exclusively in India.AlbumSons of Malice (2012) – SavageCurrent personnelProducer – Rik YeunCo-producer and sound engineer – Dika RanteAR – Aditya JarialAssistant AR – Kallol BordoloiPR Manager – Chintan Zalani(Last updated: August 2012)ReferencesExternal linksInfestdead Records on FacebookLabel's Weblink</th>\n",
       "      <td>1.0</td>\n",
       "    </tr>\n",
       "  </tbody>\n",
       "</table>\n",
       "</div>"
      ],
      "text/plain": [
       "                                                    released\n",
       "text_extract                                                \n",
       "Vista Chino is an American rock band, formed in...       1.0\n",
       "DJ S.K.T is a British underground music produce...       1.0\n",
       "Tiësto's Club Life is Dutch DJ Tiësto's weekly ...       1.0\n",
       "The Greatest Video Game Music, performed by the...       1.0\n",
       "Infestdead Records is an independent record lab...       1.0"
      ]
     },
     "execution_count": 9,
     "metadata": {},
     "output_type": "execute_result"
    }
   ],
   "source": [
    "document_term_matrix_df.sample(5)"
   ]
  },
  {
   "cell_type": "code",
   "execution_count": 7,
   "metadata": {},
   "outputs": [],
   "source": [
    "n_components = 500\n",
    "SVD = TruncatedSVD(n_components)\n",
    "component_names = [\"component_\"+str(i+1) for i in range(n_components)]\n",
    "svd_matrix = SVD.fit_transform(document_term_matrix_df)\n",
    "sum(SVD.explained_variance_ratio_)"
   ]
  },
  {
   "cell_type": "code",
   "execution_count": 10,
   "metadata": {
    "scrolled": true
   },
   "outputs": [
    {
     "data": {
      "text/plain": [
       "<matplotlib.legend.Legend at 0x7f249f48f748>"
      ]
     },
     "execution_count": 10,
     "metadata": {},
     "output_type": "execute_result"
    },
    {
     "data": {
      "image/png": "[encoded data removed]",
      "text/plain": [
       "<matplotlib.figure.Figure at 0x7f249f48f668>"
      ]
     },
     "metadata": {},
     "output_type": "display_data"
    }
   ],
   "source": [
    "plt.plot(range(500), np.cumsum(SVD.explained_variance_ratio_), label='cumulative explained variance')\n",
    "plt.legend()"
   ]
  },
  {
   "cell_type": "code",
   "execution_count": 11,
   "metadata": {
    "scrolled": true
   },
   "outputs": [
    {
     "data": {
      "text/plain": [
       "[<matplotlib.lines.Line2D at 0x7f249e99cd68>]"
      ]
     },
     "execution_count": 11,
     "metadata": {},
     "output_type": "execute_result"
    },
    {
     "data": {
      "image/png": "[encoded data removed]",
      "text/plain": [
       "<matplotlib.figure.Figure at 0x7f24ac394a58>"
      ]
     },
     "metadata": {},
     "output_type": "display_data"
    }
   ],
   "source": [
    "### Scree Plot\n",
    "\n",
    "plt.plot(SVD.explained_variance_ratio_)"
   ]
  },
  {
   "cell_type": "code",
   "execution_count": null,
   "metadata": {},
   "outputs": [],
   "source": [
    "pickle.dump(svd_matrix, open('svd_matrix', \"wb\" ) )\n",
    "pickle.dump(tfidf_vectorizer, open('tfidf_vectorizer', \"wb\" ) )\n",
    "pickle.dump(SVD, open('SVD', \"wb\" ) )"
   ]
  },
  {
   "cell_type": "markdown",
   "metadata": {},
   "source": [
    "### search component"
   ]
  },
  {
   "cell_type": "code",
   "execution_count": 9,
   "metadata": {},
   "outputs": [],
   "source": [
    "# load the saved models\n",
    "svd_matrix = pickle.load( open( \"svd_matrix\", \"rb\" ) ) \n",
    "tfidf_vectorizer = pickle.load( open( \"tfidf_vectorizer\", \"rb\" ) )\n",
    "SVD = pickle.load( open( \"SVD\", \"rb\" ) )\n",
    "corpus_df = pickle.load( open( \"corpus_df\", \"rb\" ) )\n",
    "\n",
    "# a function to return a wiki url from the pageid\n",
    "def wiki_linkify(page_index):\n",
    "    return \"http://en.wikipedia.org/?curid={}\".format(corpus_df.iloc[page_index]['pageid'])\n",
    "\n",
    "# a function to return the text_extract from a saved page in mongo\n",
    "def wiki_textify(page_index):    \n",
    "    return corpus_df.iloc[page_index]['text_extract']\n",
    "\n",
    "# given search terms and desired num_results, return the best answers!\n",
    "def return_wiki_page_index(search_terms, num_results):\n",
    "    search_terms_encoded = tfidf_vectorizer.transform([search_terms]) # encode the search\n",
    "    svd_search = SVD.transform(search_terms_encoded) # transform the search\n",
    "    svd_df = pd.DataFrame(svd_matrix) # df the results\n",
    "    svd_df['cosine_sim'] = cosine_similarity(svd_df, svd_search) # add on the cos btwn df and search\n",
    "    \n",
    "    # pull most similar <num_results> pages and look up their associated wiki urls\n",
    "    results_matrix = svd_df[['cosine_sim']].sort_values('cosine_sim', ascending=False).head(num_results) \n",
    "    results_matrix['wikipedia link'] = results_matrix.index\n",
    "    results_matrix['wikipedia link'] = results_matrix['wikipedia link'].apply(wiki_linkify)\n",
    "    return results_matrix"
   ]
  },
  {
   "cell_type": "markdown",
   "metadata": {},
   "source": [
    "## ...and the search!"
   ]
  },
  {
   "cell_type": "code",
   "execution_count": 5,
   "metadata": {},
   "outputs": [
    {
     "data": {
      "text/html": [
       "<div>\n",
       "<table border=\"1\" class=\"dataframe\">\n",
       "  <thead>\n",
       "    <tr style=\"text-align: right;\">\n",
       "      <th></th>\n",
       "      <th>cosine_sim</th>\n",
       "      <th>wikipedia link</th>\n",
       "    </tr>\n",
       "  </thead>\n",
       "  <tbody>\n",
       "    <tr>\n",
       "      <th>1961</th>\n",
       "      <td>0.690162</td>\n",
       "      <td>http://en.wikipedia.org/?curid=274976</td>\n",
       "    </tr>\n",
       "    <tr>\n",
       "      <th>3510</th>\n",
       "      <td>0.660983</td>\n",
       "      <td>http://en.wikipedia.org/?curid=28677733</td>\n",
       "    </tr>\n",
       "    <tr>\n",
       "      <th>1957</th>\n",
       "      <td>0.650366</td>\n",
       "      <td>http://en.wikipedia.org/?curid=4567532</td>\n",
       "    </tr>\n",
       "    <tr>\n",
       "      <th>3518</th>\n",
       "      <td>0.626597</td>\n",
       "      <td>http://en.wikipedia.org/?curid=20288</td>\n",
       "    </tr>\n",
       "    <tr>\n",
       "      <th>3533</th>\n",
       "      <td>0.618184</td>\n",
       "      <td>http://en.wikipedia.org/?curid=2199016</td>\n",
       "    </tr>\n",
       "  </tbody>\n",
       "</table>\n",
       "</div>"
      ],
      "text/plain": [
       "      cosine_sim                           wikipedia link\n",
       "1961    0.690162    http://en.wikipedia.org/?curid=274976\n",
       "3510    0.660983  http://en.wikipedia.org/?curid=28677733\n",
       "1957    0.650366   http://en.wikipedia.org/?curid=4567532\n",
       "3518    0.626597     http://en.wikipedia.org/?curid=20288\n",
       "3533    0.618184   http://en.wikipedia.org/?curid=2199016"
      ]
     },
     "execution_count": 5,
     "metadata": {},
     "output_type": "execute_result"
    }
   ],
   "source": [
    "search_terms = \"office space\"\n",
    "return_wiki_page_index(search_terms,5)"
   ]
  },
  {
   "cell_type": "code",
   "execution_count": 4,
   "metadata": {},
   "outputs": [
    {
     "data": {
      "text/plain": [
       "'Feng Office is a Software Development Company known for developing Feng Office Collaboration Platform and associated services:Feng Sky  is Feng Office on Demand provided as SaaSFeng Onsite  is Feng Office platform installed in External ServersFeng Office Community Edition  is the Open Source self-installed and self supported versionHistoryFeng Office started as The OpenGoo Open Source Project, a degree project at the faculty of Engineering of the University of the Republic, Uruguay. The project was presented and championed by Software Engineer Conrado Viña. Software Engineers Marcos Saiz and Ignacio de Soto developed the first prototype as their thesis. Professors Eduardo Fernández and Tomás Laurenzo  served as tutors. Conrado, Ignacio and Marcos founded the OpenGoo community and remain active members and core developers. The thesis was approved with the highest score.In 2008, Conrado Viña, Marcos Saiz, Sergio Riestra and Ignacio de Soto started the company Feng Office taking care of the development and support for the OpenGoo project. In December 2009, Feng Office decided to rebrand OpenGoo as Feng Office.See alsoOnline office suiteSaaSOpen sourceCloud computingComputer user satisfactionSoftware plus servicesReferences'"
      ]
     },
     "execution_count": 4,
     "metadata": {},
     "output_type": "execute_result"
    }
   ],
   "source": [
    "wiki_textify(3510)"
   ]
  },
  {
   "cell_type": "code",
   "execution_count": null,
   "metadata": {},
   "outputs": [],
   "source": []
  }
 ],
 "metadata": {
  "kernelspec": {
   "display_name": "Python 3",
   "language": "python",
   "name": "python3"
  },
  "language_info": {
   "codemirror_mode": {
    "name": "ipython",
    "version": 3
   },
   "file_extension": ".py",
   "mimetype": "text/x-python",
   "name": "python",
   "nbconvert_exporter": "python",
   "pygments_lexer": "ipython3",
   "version": "3.6.2"
  }
 },
 "nbformat": 4,
 "nbformat_minor": 2
}
